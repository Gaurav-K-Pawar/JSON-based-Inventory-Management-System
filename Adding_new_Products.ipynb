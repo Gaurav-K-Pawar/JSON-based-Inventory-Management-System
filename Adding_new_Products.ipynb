{
 "cells": [
  {
   "cell_type": "code",
   "execution_count": 2,
   "metadata": {},
   "outputs": [],
   "source": [
    " import json"
   ]
  },
  {
   "cell_type": "code",
   "execution_count": 23,
   "metadata": {},
   "outputs": [],
   "source": [
    "fd = open(\"record.json\",'r')\n",
    "r = fd.read()\n",
    "fd.close()\n",
    "\n",
    "record = json.loads(r)"
   ]
  },
  {
   "cell_type": "code",
   "execution_count": 24,
   "metadata": {},
   "outputs": [
    {
     "data": {
      "text/plain": [
       "{'1001': {'name': 'Dairymilk', 'price': 20, 'quantity': 85},\n",
       " '1002': {'name': '5star', 'price': 10, 'quantity': 50},\n",
       " '1003': {'name': 'Kit-Kat', 'price': 25, 'quantity': 40},\n",
       " '1004': {'name': 'Gems', 'price': 10, 'quantity': 30},\n",
       " '1005': {'name': 'Dark Fantasy', 'price': 40, 'quantity': 60},\n",
       " '1006': {'name': 'Coffee', 'price': 250, 'quantity': 50},\n",
       " '1007': {'name': 'Sugar', 'price': 200, 'quantity': 40},\n",
       " '1008': {'name': 'Tea', 'price': 100, 'quantity': 60},\n",
       " '1009': {'name': 'Maaza', 'price': 20, 'quantity': 100},\n",
       " '1010': {'name': 'Fanta', 'price': 22, 'quantity': 100},\n",
       " '1011': {'name': 'Coca-Cola', 'price': 30, 'quantity': 90},\n",
       " '1012': {'name': 'Pepsi', 'price': 30, 'quantity': 90},\n",
       " '1013': {'name': 'Washing Powder', 'price': 45, 'quantity': 70},\n",
       " '1014': {'name': 'Hand wash', 'price': 99, 'quantity': 70},\n",
       " '1015': {'name': 'Salt', 'price': 18, 'quantity': 90},\n",
       " '1016': {'name': 'Face wash', 'price': 180, 'quantity': 40},\n",
       " '1017': {'name': 'Deo', 'price': 298, 'quantity': 28},\n",
       " '1018': {'name': 'Sanitizer', 'price': 150, 'quantity': 60},\n",
       " '1019': {'name': 'Bread', 'price': 30, 'quantity': 20},\n",
       " '1020': {'name': '50-50', 'price': 30, 'quantity': 40},\n",
       " '1021': {'name': 'Shampoo', 'price': 199, 'quantity': 35},\n",
       " '1022': {'name': 'Ball pen', 'price': 10, 'quantity': 100},\n",
       " '1023': {'name': 'Pencil box', 'price': 90, 'quantity': 25},\n",
       " '1024': {'name': 'Chocolate cake', 'price': 350, 'quantity': 10},\n",
       " '1025': {'name': 'Rasmalaie cake', 'price': 45, 'quantity': 7},\n",
       " '1026': {'name': 'Strawberry cake', 'price': 340, 'quantity': 6},\n",
       " '1027': {'name': 'cup cakes', 'price': 15, 'quantity': 60},\n",
       " '1028': {'name': 'Lays', 'price': 10, 'quantity': 45},\n",
       " '1029': {'name': 'Kurkure', 'price': 10, 'quantity': 50},\n",
       " '1030': {'name': 'Red-bull', 'price': 240, 'quantity': 30},\n",
       " '1031': {'name': 'Tomato sauce', 'price': 80, 'quantity': 70},\n",
       " '1032': {'name': 'Notebook', 'price': 45, 'quantity': 50},\n",
       " '1033': {'name': 'Register', 'price': 75, 'quantity': 65},\n",
       " '1034': {'name': 'Rice', 'price': 1500, 'quantity': 30},\n",
       " '1035': {'name': 'Wheat', 'price': 1080, 'quantity': 45},\n",
       " '1036': {'name': 'Jowar', 'price': 1300, 'quantity': 20},\n",
       " '1037': {'name': 'Shaving cream', 'price': 159, 'quantity': 33},\n",
       " '1038': {'name': 'Shaving lotion', 'price': 299, 'quantity': 40},\n",
       " '1039': {'name': 'Rajbhog ice-cream', 'price': 250, 'quantity': 60},\n",
       " '1040': {'name': 'Dry fruit delight ', 'price': 300, 'quantity': 60}}"
      ]
     },
     "execution_count": 24,
     "metadata": {},
     "output_type": "execute_result"
    }
   ],
   "source": [
    "record"
   ]
  },
  {
   "cell_type": "code",
   "execution_count": 25,
   "metadata": {},
   "outputs": [
    {
     "name": "stdout",
     "output_type": "stream",
     "text": [
      "Enter product id:1025\n",
      "Enter name:Rasmalie cake\n",
      "Enter price:450\n",
      "Enter quantity:10\n"
     ]
    }
   ],
   "source": [
    "prod_id = str(input(\"Enter product id:\"))\n",
    "name    = str(input(\"Enter name:\"))\n",
    "pr      = int(input(\"Enter price:\"))\n",
    "qn      = int(input(\"Enter quantity:\"))\n",
    "\n",
    "record[prod_id] = {'name': name, 'price': pr, 'quantity': qn}\n",
    "\n",
    "js = json.dumps(record)\n",
    "\n",
    "fd = open(\"record.json\",'w')\n",
    "fd.write(js)\n",
    "fd.close()"
   ]
  },
  {
   "cell_type": "code",
   "execution_count": 26,
   "metadata": {},
   "outputs": [
    {
     "data": {
      "text/plain": [
       "{'1001': {'name': 'Dairymilk', 'price': 20, 'quantity': 85},\n",
       " '1002': {'name': '5star', 'price': 10, 'quantity': 50},\n",
       " '1003': {'name': 'Kit-Kat', 'price': 25, 'quantity': 40},\n",
       " '1004': {'name': 'Gems', 'price': 10, 'quantity': 30},\n",
       " '1005': {'name': 'Dark Fantasy', 'price': 40, 'quantity': 60},\n",
       " '1006': {'name': 'Coffee', 'price': 250, 'quantity': 50},\n",
       " '1007': {'name': 'Sugar', 'price': 200, 'quantity': 40},\n",
       " '1008': {'name': 'Tea', 'price': 100, 'quantity': 60},\n",
       " '1009': {'name': 'Maaza', 'price': 20, 'quantity': 100},\n",
       " '1010': {'name': 'Fanta', 'price': 22, 'quantity': 100},\n",
       " '1011': {'name': 'Coca-Cola', 'price': 30, 'quantity': 90},\n",
       " '1012': {'name': 'Pepsi', 'price': 30, 'quantity': 90},\n",
       " '1013': {'name': 'Washing Powder', 'price': 45, 'quantity': 70},\n",
       " '1014': {'name': 'Hand wash', 'price': 99, 'quantity': 70},\n",
       " '1015': {'name': 'Salt', 'price': 18, 'quantity': 90},\n",
       " '1016': {'name': 'Face wash', 'price': 180, 'quantity': 40},\n",
       " '1017': {'name': 'Deo', 'price': 298, 'quantity': 28},\n",
       " '1018': {'name': 'Sanitizer', 'price': 150, 'quantity': 60},\n",
       " '1019': {'name': 'Bread', 'price': 30, 'quantity': 20},\n",
       " '1020': {'name': '50-50', 'price': 30, 'quantity': 40},\n",
       " '1021': {'name': 'Shampoo', 'price': 199, 'quantity': 35},\n",
       " '1022': {'name': 'Ball pen', 'price': 10, 'quantity': 100},\n",
       " '1023': {'name': 'Pencil box', 'price': 90, 'quantity': 25},\n",
       " '1024': {'name': 'Chocolate cake', 'price': 350, 'quantity': 10},\n",
       " '1025': {'name': 'Rasmalie cake', 'price': 450, 'quantity': 10},\n",
       " '1026': {'name': 'Strawberry cake', 'price': 340, 'quantity': 6},\n",
       " '1027': {'name': 'cup cakes', 'price': 15, 'quantity': 60},\n",
       " '1028': {'name': 'Lays', 'price': 10, 'quantity': 45},\n",
       " '1029': {'name': 'Kurkure', 'price': 10, 'quantity': 50},\n",
       " '1030': {'name': 'Red-bull', 'price': 240, 'quantity': 30},\n",
       " '1031': {'name': 'Tomato sauce', 'price': 80, 'quantity': 70},\n",
       " '1032': {'name': 'Notebook', 'price': 45, 'quantity': 50},\n",
       " '1033': {'name': 'Register', 'price': 75, 'quantity': 65},\n",
       " '1034': {'name': 'Rice', 'price': 1500, 'quantity': 30},\n",
       " '1035': {'name': 'Wheat', 'price': 1080, 'quantity': 45},\n",
       " '1036': {'name': 'Jowar', 'price': 1300, 'quantity': 20},\n",
       " '1037': {'name': 'Shaving cream', 'price': 159, 'quantity': 33},\n",
       " '1038': {'name': 'Shaving lotion', 'price': 299, 'quantity': 40},\n",
       " '1039': {'name': 'Rajbhog ice-cream', 'price': 250, 'quantity': 60},\n",
       " '1040': {'name': 'Dry fruit delight ', 'price': 300, 'quantity': 60}}"
      ]
     },
     "execution_count": 26,
     "metadata": {},
     "output_type": "execute_result"
    }
   ],
   "source": [
    "record"
   ]
  },
  {
   "cell_type": "code",
   "execution_count": null,
   "metadata": {},
   "outputs": [],
   "source": []
  }
 ],
 "metadata": {
  "kernelspec": {
   "display_name": "Python 3",
   "language": "python",
   "name": "python3"
  },
  "language_info": {
   "codemirror_mode": {
    "name": "ipython",
    "version": 3
   },
   "file_extension": ".py",
   "mimetype": "text/x-python",
   "name": "python",
   "nbconvert_exporter": "python",
   "pygments_lexer": "ipython3",
   "version": "3.8.5"
  }
 },
 "nbformat": 4,
 "nbformat_minor": 4
}
