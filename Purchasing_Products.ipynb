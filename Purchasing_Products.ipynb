{
 "cells": [
  {
   "cell_type": "markdown",
   "metadata": {},
   "source": [
    "# Read Inventory"
   ]
  },
  {
   "cell_type": "code",
   "execution_count": 158,
   "metadata": {},
   "outputs": [],
   "source": [
    "import json\n",
    "\n",
    "fd = open(\"record.json\",'r')\n",
    "r = fd.read()\n",
    "fd.close()\n",
    "\n",
    "records = json.loads(r)"
   ]
  },
  {
   "cell_type": "code",
   "execution_count": 159,
   "metadata": {},
   "outputs": [
    {
     "data": {
      "text/plain": [
       "{'1001': {'name': 'Dairymilk', 'price': 20, 'quantity': 85},\n",
       " '1002': {'name': '5star', 'price': 10, 'quantity': 50},\n",
       " '1003': {'name': 'Kit-Kat', 'price': 25, 'quantity': 40},\n",
       " '1004': {'name': 'Gems', 'price': 10, 'quantity': 30},\n",
       " '1005': {'name': 'Dark Fantasy', 'price': 40, 'quantity': 52},\n",
       " '1006': {'name': 'Coffee', 'price': 250, 'quantity': 50},\n",
       " '1007': {'name': 'Sugar', 'price': 200, 'quantity': 40},\n",
       " '1008': {'name': 'Tea', 'price': 100, 'quantity': 60},\n",
       " '1009': {'name': 'Maaza', 'price': 20, 'quantity': 96},\n",
       " '1010': {'name': 'Fanta', 'price': 22, 'quantity': 100},\n",
       " '1011': {'name': 'Coca-Cola', 'price': 30, 'quantity': 90},\n",
       " '1012': {'name': 'Pepsi', 'price': 30, 'quantity': 90},\n",
       " '1013': {'name': 'Washing Powder', 'price': 45, 'quantity': 70},\n",
       " '1014': {'name': 'Hand wash', 'price': 99, 'quantity': 70},\n",
       " '1015': {'name': 'Salt', 'price': 18, 'quantity': 90},\n",
       " '1016': {'name': 'Face wash', 'price': 180, 'quantity': 39},\n",
       " '1017': {'name': 'Deo', 'price': 298, 'quantity': 28},\n",
       " '1018': {'name': 'Sanitizer', 'price': 150, 'quantity': 60},\n",
       " '1019': {'name': 'Bread', 'price': 30, 'quantity': 20},\n",
       " '1020': {'name': '50-50', 'price': 30, 'quantity': 40},\n",
       " '1021': {'name': 'Shampoo', 'price': 199, 'quantity': 35},\n",
       " '1022': {'name': 'Ball pen', 'price': 10, 'quantity': 80},\n",
       " '1023': {'name': 'Pencil box', 'price': 90, 'quantity': 25},\n",
       " '1024': {'name': 'Chocolate cake', 'price': 350, 'quantity': 10},\n",
       " '1025': {'name': 'Rasmalie cake', 'price': 450, 'quantity': 7},\n",
       " '1026': {'name': 'Strawberry cake', 'price': 340, 'quantity': 6},\n",
       " '1027': {'name': 'cup cakes', 'price': 15, 'quantity': 60},\n",
       " '1028': {'name': 'Lays', 'price': 10, 'quantity': 45},\n",
       " '1029': {'name': 'Kurkure', 'price': 10, 'quantity': 45},\n",
       " '1030': {'name': 'Red-bull', 'price': 240, 'quantity': 28},\n",
       " '1031': {'name': 'Tomato sauce', 'price': 80, 'quantity': 70},\n",
       " '1032': {'name': 'Notebook', 'price': 45, 'quantity': 45},\n",
       " '1033': {'name': 'Register', 'price': 75, 'quantity': 65},\n",
       " '1034': {'name': 'Rice', 'price': 1500, 'quantity': 30},\n",
       " '1035': {'name': 'Wheat', 'price': 1080, 'quantity': 42},\n",
       " '1036': {'name': 'Jowar', 'price': 1300, 'quantity': 20},\n",
       " '1037': {'name': 'Shaving cream', 'price': 159, 'quantity': 33},\n",
       " '1038': {'name': 'Shaving lotion', 'price': 299, 'quantity': 40},\n",
       " '1039': {'name': 'Rajbhog ice-cream', 'price': 250, 'quantity': 60},\n",
       " '1040': {'name': 'Dry fruit delight ', 'price': 300, 'quantity': 59}}"
      ]
     },
     "execution_count": 159,
     "metadata": {},
     "output_type": "execute_result"
    }
   ],
   "source": [
    "records"
   ]
  },
  {
   "cell_type": "markdown",
   "metadata": {},
   "source": [
    "# Purchase"
   ]
  },
  {
   "cell_type": "code",
   "execution_count": 160,
   "metadata": {},
   "outputs": [
    {
     "name": "stdout",
     "output_type": "stream",
     "text": [
      "Enter date: 06/09/2021\n",
      "Enter the product_Id: 1027\n",
      "Enter the quantity: 12\n",
      "Product:  cup cakes\n",
      "Price:  15\n",
      "Billing Amount:  180\n",
      "Purchase date:  06/09/2021\n"
     ]
    }
   ],
   "source": [
    "date     = str(input(\"Enter date: \")) \n",
    "ui_prod  = str(input(\"Enter the product_Id: \"))\n",
    "ui_quant = int(input(\"Enter the quantity: \"))\n",
    "\n",
    "if (ui_quant > records[ui_prod]['quantity']):\n",
    "    print('Sorry the available quantity is : ', records[ui_prod]['quantity'])\n",
    "    print('Please enter the details again')\n",
    "else:\n",
    "    print(\"Product: \", records[ui_prod]['name'])\n",
    "    print(\"Price: \", records[ui_prod]['price'])\n",
    "    print(\"Billing Amount: \", records[ui_prod]['price'] * ui_quant)\n",
    "    print(\"Purchase date: \", date)\n",
    "    records[ui_prod]['quantity'] = records[ui_prod]['quantity'] - ui_quant"
   ]
  },
  {
   "cell_type": "markdown",
   "metadata": {},
   "source": [
    "# Update Inventory after Purchase"
   ]
  },
  {
   "cell_type": "code",
   "execution_count": 161,
   "metadata": {},
   "outputs": [],
   "source": [
    "js = json.dumps(records)\n",
    "\n",
    "fd = open(\"record.json\",'w')\n",
    "fd.write(js)\n",
    "fd.close()"
   ]
  },
  {
   "cell_type": "markdown",
   "metadata": {},
   "source": [
    "# Sales"
   ]
  },
  {
   "cell_type": "code",
   "execution_count": 162,
   "metadata": {},
   "outputs": [
    {
     "data": {
      "text/plain": [
       "{'1': {'prod': '1001', 'quantity': 15, 'amount': 300, 'Date': '01/09/2021'},\n",
       " '2': {'prod': '1011', 'quantity': 10, 'amount': 300, 'Date': '01/09/2021'},\n",
       " '3': {'prod': '1006', 'quantity': 5, 'amount': 1250, 'Date': '02/09/2021'},\n",
       " '4': {'prod': '1017', 'quantity': 2, 'amount': 596, 'Date': '02/09/2021'},\n",
       " '5': {'prod': '1025', 'quantity': 3, 'amount': 1350, 'Date': '02/09/2021'},\n",
       " '6': {'prod': '1029', 'quantity': 5, 'amount': 50, 'Date': '03/09/2021'},\n",
       " '7': {'prod': '1030', 'quantity': 2, 'amount': 480, 'Date': '03/09/2021'},\n",
       " '8': {'prod': '1032', 'quantity': 5, 'amount': 225, 'Date': '04/09/2021'},\n",
       " '9': {'prod': '1040', 'quantity': 1, 'amount': 300, 'Date': '04/09/2021'},\n",
       " '10': {'prod': '1022', 'quantity': 20, 'amount': 200, 'Date': '04/09/2021'},\n",
       " '11': {'prod': '1009', 'quantity': 4, 'amount': 80, 'Date': '05/09/2021'},\n",
       " '12': {'prod': '1035', 'quantity': 3, 'amount': 3240, 'Date': '05/09/2021'},\n",
       " '13': {'prod': '1016', 'quantity': 1, 'amount': 180, 'Date': '05/09/2021'},\n",
       " '14': {'prod': '1005', 'quantity': 8, 'amount': 320, 'Date': '05/09/2021'}}"
      ]
     },
     "execution_count": 162,
     "metadata": {},
     "output_type": "execute_result"
    }
   ],
   "source": [
    "sales"
   ]
  },
  {
   "cell_type": "code",
   "execution_count": 163,
   "metadata": {},
   "outputs": [
    {
     "name": "stdout",
     "output_type": "stream",
     "text": [
      "Enter serial no: 15\n"
     ]
    }
   ],
   "source": [
    "Sr_no = str(input(\"Enter serial no: \"))\n",
    "sales[Sr_no] = {'prod' : ui_prod, 'quantity' : ui_quant, 'amount': records[ui_prod]['price'] * ui_quant, 'Date': date}"
   ]
  },
  {
   "cell_type": "code",
   "execution_count": 164,
   "metadata": {},
   "outputs": [],
   "source": [
    "sale = json.dumps(sales)\n",
    "fd = open(\"sales.json\",'w')\n",
    "fd.write(sale)\n",
    "fd.close()\n"
   ]
  },
  {
   "cell_type": "code",
   "execution_count": 165,
   "metadata": {},
   "outputs": [
    {
     "data": {
      "text/plain": [
       "{'1': {'prod': '1001', 'quantity': 15, 'amount': 300, 'Date': '01/09/2021'},\n",
       " '2': {'prod': '1011', 'quantity': 10, 'amount': 300, 'Date': '01/09/2021'},\n",
       " '3': {'prod': '1006', 'quantity': 5, 'amount': 1250, 'Date': '02/09/2021'},\n",
       " '4': {'prod': '1017', 'quantity': 2, 'amount': 596, 'Date': '02/09/2021'},\n",
       " '5': {'prod': '1025', 'quantity': 3, 'amount': 1350, 'Date': '02/09/2021'},\n",
       " '6': {'prod': '1029', 'quantity': 5, 'amount': 50, 'Date': '03/09/2021'},\n",
       " '7': {'prod': '1030', 'quantity': 2, 'amount': 480, 'Date': '03/09/2021'},\n",
       " '8': {'prod': '1032', 'quantity': 5, 'amount': 225, 'Date': '04/09/2021'},\n",
       " '9': {'prod': '1040', 'quantity': 1, 'amount': 300, 'Date': '04/09/2021'},\n",
       " '10': {'prod': '1022', 'quantity': 20, 'amount': 200, 'Date': '04/09/2021'},\n",
       " '11': {'prod': '1009', 'quantity': 4, 'amount': 80, 'Date': '05/09/2021'},\n",
       " '12': {'prod': '1035', 'quantity': 3, 'amount': 3240, 'Date': '05/09/2021'},\n",
       " '13': {'prod': '1016', 'quantity': 1, 'amount': 180, 'Date': '05/09/2021'},\n",
       " '14': {'prod': '1005', 'quantity': 8, 'amount': 320, 'Date': '05/09/2021'},\n",
       " '15': {'prod': '1027', 'quantity': 12, 'amount': 180, 'Date': '06/09/2021'}}"
      ]
     },
     "execution_count": 165,
     "metadata": {},
     "output_type": "execute_result"
    }
   ],
   "source": [
    "sales"
   ]
  },
  {
   "cell_type": "code",
   "execution_count": null,
   "metadata": {},
   "outputs": [],
   "source": []
  }
 ],
 "metadata": {
  "kernelspec": {
   "display_name": "Python 3",
   "language": "python",
   "name": "python3"
  },
  "language_info": {
   "codemirror_mode": {
    "name": "ipython",
    "version": 3
   },
   "file_extension": ".py",
   "mimetype": "text/x-python",
   "name": "python",
   "nbconvert_exporter": "python",
   "pygments_lexer": "ipython3",
   "version": "3.8.5"
  }
 },
 "nbformat": 4,
 "nbformat_minor": 4
}
